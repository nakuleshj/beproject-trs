{
 "cells": [
  {
   "cell_type": "code",
   "execution_count": 1,
   "metadata": {},
   "outputs": [],
   "source": [
    "import pandas as pd\n",
    "import numpy as np\n",
    "from sklearn.cluster import AgglomerativeClustering"
   ]
  },
  {
   "cell_type": "code",
   "execution_count": 11,
   "metadata": {},
   "outputs": [
    {
     "name": "stdout",
     "output_type": "stream",
     "text": [
      "Enter place name:goa\n"
     ]
    },
    {
     "data": {
      "text/plain": [
       "6"
      ]
     },
     "execution_count": 11,
     "metadata": {},
     "output_type": "execute_result"
    }
   ],
   "source": [
    "plc=input('Enter place name:')"
   ]
  },
  {
   "cell_type": "code",
   "execution_count": 13,
   "metadata": {},
   "outputs": [],
   "source": [
    "url='dataset/'+plc+'.csv'\n",
    "data=pd.read_csv(url)\n",
    "act=data['activity_name'].copy()\n",
    "dur=int(len(act)/3)\n",
    "data.drop('activity_name',axis=1,inplace=True)\n",
    "data=data.rename_axis('ID').values"
   ]
  },
  {
   "cell_type": "code",
   "execution_count": 14,
   "metadata": {},
   "outputs": [
    {
     "data": {
      "text/plain": [
       "array([1, 4, 5, 1, 3, 1, 1, 1, 3, 0, 4, 0, 0, 0, 0, 1, 3, 2], dtype=int64)"
      ]
     },
     "execution_count": 14,
     "metadata": {},
     "output_type": "execute_result"
    }
   ],
   "source": [
    "ac = AgglomerativeClustering(n_clusters=dur, affinity='precomputed', linkage='complete')\n",
    "clusters = ac.fit_predict(data)\n",
    "clusters"
   ]
  },
  {
   "cell_type": "code",
   "execution_count": 15,
   "metadata": {},
   "outputs": [],
   "source": [
    "final_itnr={}\n",
    "for f in range(1,dur+1):\n",
    "    plcs=[]\n",
    "    k='Day '+str(f)\n",
    "    for i,e in enumerate(clusters):\n",
    "        if e==(f-1):\n",
    "            plcs.append(act[i])\n",
    "    final_itnr[k]=plcs"
   ]
  },
  {
   "cell_type": "code",
   "execution_count": 16,
   "metadata": {},
   "outputs": [
    {
     "data": {
      "text/plain": [
       "{'Day 1': ['shantadurga temple',\n",
       "  'reis magos fort',\n",
       "  'basilica of bom jesus',\n",
       "  'tomb of st.francis xavier',\n",
       "  'se cathedral'],\n",
       " 'Day 2': ['sandlewood ayurveda spa',\n",
       "  'utardo beach',\n",
       "  'varca beach',\n",
       "  'cavelossim beach',\n",
       "  'benaulim beach',\n",
       "  'mangeshi temple'],\n",
       " 'Day 3': ['dudhsagar falls'],\n",
       " 'Day 4': ['mandrem beach', \"st.cajetan's church\", 'arambol beach'],\n",
       " 'Day 5': ['agonda beach', 'palolem beach'],\n",
       " 'Day 6': [\"tanshikar's organic and spice farm\"]}"
      ]
     },
     "execution_count": 16,
     "metadata": {},
     "output_type": "execute_result"
    }
   ],
   "source": [
    "final_itnr"
   ]
  },
  {
   "cell_type": "code",
   "execution_count": null,
   "metadata": {},
   "outputs": [],
   "source": []
  }
 ],
 "metadata": {
  "kernelspec": {
   "display_name": "Python 3",
   "language": "python",
   "name": "python3"
  },
  "language_info": {
   "codemirror_mode": {
    "name": "ipython",
    "version": 3
   },
   "file_extension": ".py",
   "mimetype": "text/x-python",
   "name": "python",
   "nbconvert_exporter": "python",
   "pygments_lexer": "ipython3",
   "version": "3.7.3"
  }
 },
 "nbformat": 4,
 "nbformat_minor": 2
}
